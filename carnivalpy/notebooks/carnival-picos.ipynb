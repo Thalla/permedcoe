{
 "cells": [
  {
   "cell_type": "code",
   "execution_count": 8,
   "id": "aba91a85",
   "metadata": {},
   "outputs": [],
   "source": [
    "import picos as pc\n",
    "import omnipath as op\n",
    "import pandas as pd"
   ]
  },
  {
   "cell_type": "code",
   "execution_count": 9,
   "id": "e86112f1",
   "metadata": {},
   "outputs": [],
   "source": [
    "# Filter based on transcriptutorial example using CARNIVAL\n",
    "#df_op = op.interactions.OmniPath().get()\n",
    "#df_opf = df_op[(df_op.consensus_direction == 1) & ((df_op.consensus_stimulation == 1) | (df_op.consensus_inhibition == 1))]\n",
    "#df_opf = df_opf[df_opf.consensus_stimulation != df_opf.consensus_inhibition]\n",
    "#df_opf[\"interaction\"] = df_opf.consensus_stimulation.astype(int)\n",
    "#df_opf.loc[df_opf[\"interaction\"] == 0, \"interaction\"] = -1\n",
    "#df_opf[[\"source\", \"interaction\", \"target\"]]"
   ]
  },
  {
   "cell_type": "code",
   "execution_count": 10,
   "id": "7be6904a",
   "metadata": {},
   "outputs": [
    {
     "data": {
      "text/html": [
       "<div>\n",
       "<style scoped>\n",
       "    .dataframe tbody tr th:only-of-type {\n",
       "        vertical-align: middle;\n",
       "    }\n",
       "\n",
       "    .dataframe tbody tr th {\n",
       "        vertical-align: top;\n",
       "    }\n",
       "\n",
       "    .dataframe thead th {\n",
       "        text-align: right;\n",
       "    }\n",
       "</style>\n",
       "<table border=\"1\" class=\"dataframe\">\n",
       "  <thead>\n",
       "    <tr style=\"text-align: right;\">\n",
       "      <th></th>\n",
       "      <th>source</th>\n",
       "      <th>interaction</th>\n",
       "      <th>target</th>\n",
       "    </tr>\n",
       "  </thead>\n",
       "  <tbody>\n",
       "    <tr>\n",
       "      <th>0</th>\n",
       "      <td>I1</td>\n",
       "      <td>1</td>\n",
       "      <td>P1</td>\n",
       "    </tr>\n",
       "    <tr>\n",
       "      <th>1</th>\n",
       "      <td>I2</td>\n",
       "      <td>1</td>\n",
       "      <td>P1</td>\n",
       "    </tr>\n",
       "    <tr>\n",
       "      <th>2</th>\n",
       "      <td>I2</td>\n",
       "      <td>-1</td>\n",
       "      <td>P2</td>\n",
       "    </tr>\n",
       "    <tr>\n",
       "      <th>3</th>\n",
       "      <td>P1</td>\n",
       "      <td>1</td>\n",
       "      <td>T</td>\n",
       "    </tr>\n",
       "  </tbody>\n",
       "</table>\n",
       "</div>"
      ],
      "text/plain": [
       "  source  interaction target\n",
       "0     I1            1     P1\n",
       "1     I2            1     P1\n",
       "2     I2           -1     P2\n",
       "3     P1            1      T"
      ]
     },
     "execution_count": 10,
     "metadata": {},
     "output_type": "execute_result"
    }
   ],
   "source": [
    "df_graph = pd.DataFrame(\n",
    "    {'source': ['I1', 'I2', 'I2', 'P1'],\n",
    "     'interaction': [1, 1, -1, 1],\n",
    "     'target': ['P1', 'P1', 'P2', 'T']\n",
    "    }\n",
    ")\n",
    "\n",
    "df_graph"
   ]
  },
  {
   "cell_type": "code",
   "execution_count": 11,
   "id": "d1556116",
   "metadata": {},
   "outputs": [],
   "source": [
    "perturbations = dict(I1=1, I2=1)\n",
    "measurements = dict(T=1)"
   ]
  },
  {
   "cell_type": "code",
   "execution_count": 12,
   "id": "8d996843",
   "metadata": {},
   "outputs": [
    {
     "data": {
      "text/plain": [
       "<Integer Linear Program>"
      ]
     },
     "execution_count": 12,
     "metadata": {},
     "output_type": "execute_result"
    }
   ],
   "source": [
    "# Direct translation of the V2 CARNIVAL ILP implementation with PICOS\n",
    "def get_edge(row):\n",
    "    return row.source + \"_\" + row.target\n",
    "\n",
    "p = pc.Problem()\n",
    "vn = dict()\n",
    "for node in set(df_graph.source) | set(df_graph.target):\n",
    "    vn[f'nU_{node}'] = pc.BinaryVariable(f'nU_{node}')\n",
    "    vn[f'nD_{node}'] = pc.BinaryVariable(f'nD_{node}')\n",
    "    vn[f'nX_{node}'] = pc.IntegerVariable(f'nX_{node}', lower=-1, upper=1)\n",
    "    vn[f'nAc_{node}'] = pc.IntegerVariable(f'nAc_{node}', lower=-1, upper=1)\n",
    "    vn[f'nDs_{node}'] = pc.IntegerVariable(f'nDs_{node}', lower=0, upper=100)\n",
    "    # Add also C8 here\n",
    "    p.add_constraint(vn[f'nU_{node}'] - vn[f'nD_{node}'] + vn[f'nAc_{node}'] - vn[f'nX_{node}'] == 0)\n",
    "    \n",
    "# Create variables for the measurements (to measure a mismatch which goes from 0 to 2)\n",
    "for k, v in measurements.items():\n",
    "    vn[f'aD_{k}'] = pc.IntegerVariable(f'aD_{k}', lower=0, upper=2)\n",
    "\n",
    "# Create the variables for the edges\n",
    "for row in df_graph.itertuples():\n",
    "    edge_name = get_edge(row)\n",
    "    vn[f'eU_{edge_name}'] = pc.BinaryVariable(f'eU_{edge_name}')\n",
    "    vn[f'eD_{edge_name}'] = pc.BinaryVariable(f'eD_{edge_name}')\n",
    "    # Constraint C3\n",
    "    p.add_constraint(vn[f'eU_{edge_name}'] + vn[f'eD_{edge_name}'] <= 1)\n",
    "\n",
    "# --- Create the set of constraints --- \n",
    "\n",
    "# Add constraints for positive and negative measurements (for the objective function)\n",
    "for k, v in measurements.items():\n",
    "    if v > 0:\n",
    "        p.add_constraint(vn[f'nX_{k}'] - vn[f'aD_{k}'] <= 1)\n",
    "        p.add_constraint(vn[f'nX_{k}'] + vn[f'aD_{k}'] >= 1)\n",
    "    else:\n",
    "        p.add_constraint(vn[f'nX_{k}'] - vn[f'aD_{k}'] <= -1)\n",
    "        p.add_constraint(vn[f'nX_{k}'] + vn[f'aD_{k}'] >= -1)\n",
    "        \n",
    "# C1 and C2\n",
    "for row in df_graph.itertuples():\n",
    "    # Add constraints for activatory/inhibitory edges edges\n",
    "    if row.interaction > 0:\n",
    "        # C1 and C2\n",
    "        p.add_constraint(vn[f'eU_{get_edge(row)}'] - vn[f'nX_{row.source}'] >= 0)\n",
    "        p.add_constraint(vn[f'eD_{get_edge(row)}'] + vn[f'nX_{row.source}'] >= 0)\n",
    "        # C3 and C4\n",
    "        p.add_constraint(vn[f'eU_{get_edge(row)}'] - vn[f'nX_{row.source}'] - vn[f'eD_{get_edge(row)}'] <= 0)\n",
    "        p.add_constraint(vn[f'eD_{get_edge(row)}'] + vn[f'nX_{row.source}'] - vn[f'eU_{get_edge(row)}'] <= 0)\n",
    "    else:\n",
    "        # C1 and C2\n",
    "        p.add_constraint(vn[f'eU_{get_edge(row)}'] + vn[f'nX_{row.source}'] >= 0)\n",
    "        p.add_constraint(vn[f'eD_{get_edge(row)}'] - vn[f'nX_{row.source}'] >= 0)\n",
    "        # C3 and C4\n",
    "        p.add_constraint(vn[f'eU_{get_edge(row)}'] + vn[f'nX_{row.source}'] - vn[f'eD_{get_edge(row)}'] <= 0)\n",
    "        p.add_constraint(vn[f'eD_{get_edge(row)}'] - vn[f'nX_{row.source}'] - vn[f'eU_{get_edge(row)}'] <= 0)\n",
    "    # Add constraints for loops\n",
    "    # Basically, find a valid assignment of distances for each node that preserve the order\n",
    "    # Review this, very intrincated way of preserving order.\n",
    "    p.add_constraint(101 * vn[f'eU_{get_edge(row)}'] + vn[f'nDs_{row.source}'] - vn[f'nDs_{row.target}'] <= 100)\n",
    "    p.add_constraint(101 * vn[f'eD_{get_edge(row)}'] + vn[f'nDs_{row.source}'] - vn[f'nDs_{row.target}'] <= 100)\n",
    "        \n",
    "# C6 and C7 for incoming edges\n",
    "for target in df_graph.target.unique():\n",
    "    eU = [vn[f'eU_{get_edge(row)}'] for row in df_graph[df_graph.target==target].itertuples()]\n",
    "    if len(eU) > 0:\n",
    "        # C6\n",
    "        p.add_constraint(vn[f'nU_{target}'] <= sum(eU))\n",
    "    eD = [vn[f'eD_{get_edge(row)}'] for row in df_graph[df_graph.target==target].itertuples()]\n",
    "    if len(eD) > 0:\n",
    "        # C7\n",
    "        p.add_constraint(vn[f'nD_{target}'] <= sum(eD))\n",
    "    \n",
    "# Add constraints for perturbations\n",
    "for node in perturbations:\n",
    "    p.add_constraint(vn[f'nU_{node}'] <= 0)\n",
    "    p.add_constraint(vn[f'nD_{node}'] <= 0)\n",
    "    p.add_constraint(vn[f'nX_{node}'] == 1)\n",
    "    p.add_constraint(vn[f'nX_{node}'] - vn[f'nAc_{node}'] == 0) # looks like nAc vars are redundant\n",
    "    \n",
    "# C8 for unperturbed nodes\n",
    "unperturbed = (set(df_graph.source) | set(df_graph.target)) - set(perturbations.keys())\n",
    "for node in unperturbed:\n",
    "    p.add_constraint(vn[f'nAc_{node}'] == 0)\n",
    "\n",
    "\n",
    "# Add objective function\n",
    "# Minimize the discrepancies of the measurements (aD vars)\n",
    "# Use a penalty on the number of active nodes\n",
    "# NOTE: This is an inneficient way of encoding the constraints with PICOS\n",
    "penalty = 0.2\n",
    "obj1 = sum([vn[f'aD_{k}'] for k, v in measurements.items()])\n",
    "obj2u = penalty * sum([vn[f'nU_{node}'] for node in set(df_graph.source) | set(df_graph.target)])\n",
    "obj2d = penalty * sum([vn[f'nD_{node}'] for node in set(df_graph.source) | set(df_graph.target)])\n",
    "p.set_objective('min', sum(obj1 + obj2u + obj2d))\n",
    "p"
   ]
  },
  {
   "cell_type": "code",
   "execution_count": 13,
   "id": "527bfb1d",
   "metadata": {},
   "outputs": [
    {
     "name": "stdout",
     "output_type": "stream",
     "text": [
      "0.4\n"
     ]
    },
    {
     "data": {
      "text/plain": [
       "<feasible primal solution (claimed optimal) from gurobi>"
      ]
     },
     "execution_count": 13,
     "metadata": {},
     "output_type": "execute_result"
    }
   ],
   "source": [
    "sol = p.solve()\n",
    "print(sol.value)\n",
    "sol"
   ]
  },
  {
   "cell_type": "code",
   "execution_count": 14,
   "id": "3a27134d",
   "metadata": {},
   "outputs": [
    {
     "name": "stdout",
     "output_type": "stream",
     "text": [
      "nU_I1 0.0\n",
      "nD_I1 0.0\n",
      "nX_I1 1.0\n",
      "nAc_I1 1.0\n",
      "nDs_I1 0.0\n",
      "nU_P2 0.0\n",
      "nD_P2 0.0\n",
      "nX_P2 0.0\n",
      "nAc_P2 0.0\n",
      "nDs_P2 100.0\n",
      "nU_T 1.0\n",
      "nD_T 0.0\n",
      "nX_T 1.0\n",
      "nAc_T 0.0\n",
      "nDs_T 100.0\n",
      "nU_P1 1.0\n",
      "nD_P1 0.0\n",
      "nX_P1 1.0\n",
      "nAc_P1 0.0\n",
      "nDs_P1 1.0\n",
      "nU_I2 0.0\n",
      "nD_I2 0.0\n",
      "nX_I2 1.0\n",
      "nAc_I2 1.0\n",
      "nDs_I2 0.0\n",
      "aD_T 0.0\n",
      "eU_I1_P1 1.0\n",
      "eD_I1_P1 0.0\n",
      "eU_I2_P1 1.0\n",
      "eD_I2_P1 0.0\n",
      "eU_I2_P2 0.0\n",
      "eD_I2_P2 1.0\n",
      "eU_P1_T 1.0\n",
      "eD_P1_T 0.0\n"
     ]
    }
   ],
   "source": [
    "for k, v in vn.items():\n",
    "    print(k, v.value)"
   ]
  },
  {
   "cell_type": "code",
   "execution_count": null,
   "id": "8a0a8e94",
   "metadata": {},
   "outputs": [],
   "source": []
  },
  {
   "cell_type": "code",
   "execution_count": null,
   "id": "59536528",
   "metadata": {},
   "outputs": [],
   "source": []
  },
  {
   "cell_type": "code",
   "execution_count": null,
   "id": "20889187",
   "metadata": {},
   "outputs": [],
   "source": []
  },
  {
   "cell_type": "code",
   "execution_count": null,
   "id": "d08ac8ee",
   "metadata": {},
   "outputs": [],
   "source": []
  },
  {
   "cell_type": "code",
   "execution_count": null,
   "id": "c2d0b52f",
   "metadata": {},
   "outputs": [],
   "source": []
  }
 ],
 "metadata": {
  "kernelspec": {
   "display_name": "Python 3 (ipykernel)",
   "language": "python",
   "name": "python3"
  },
  "language_info": {
   "codemirror_mode": {
    "name": "ipython",
    "version": 3
   },
   "file_extension": ".py",
   "mimetype": "text/x-python",
   "name": "python",
   "nbconvert_exporter": "python",
   "pygments_lexer": "ipython3",
   "version": "3.8.11"
  }
 },
 "nbformat": 4,
 "nbformat_minor": 5
}
